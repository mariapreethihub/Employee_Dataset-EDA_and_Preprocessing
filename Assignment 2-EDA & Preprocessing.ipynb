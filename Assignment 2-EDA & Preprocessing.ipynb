{
 "cells": [
  {
   "cell_type": "markdown",
   "id": "b8eec6d6-3b2a-41e8-b20f-c7ffd076d648",
   "metadata": {},
   "source": [
    "## IMPORTING THE LIBRARIES"
   ]
  },
  {
   "cell_type": "code",
   "execution_count": 1506,
   "id": "9581b072-7bd3-4f39-82b0-fedba27c0c64",
   "metadata": {},
   "outputs": [],
   "source": [
    "import pandas as pd\n",
    "import numpy as np\n",
    "import matplotlib.pyplot as plt\n",
    "import seaborn as sns"
   ]
  },
  {
   "cell_type": "markdown",
   "id": "b9867e92-01a4-4eb4-874a-d302fcf08793",
   "metadata": {},
   "source": [
    "## IMPORTING THE DATASET"
   ]
  },
  {
   "cell_type": "code",
   "execution_count": 1509,
   "id": "877e7f7a-3244-41eb-bc92-5181067a7ffe",
   "metadata": {},
   "outputs": [
    {
     "data": {
      "text/html": [
       "<div>\n",
       "<style scoped>\n",
       "    .dataframe tbody tr th:only-of-type {\n",
       "        vertical-align: middle;\n",
       "    }\n",
       "\n",
       "    .dataframe tbody tr th {\n",
       "        vertical-align: top;\n",
       "    }\n",
       "\n",
       "    .dataframe thead th {\n",
       "        text-align: right;\n",
       "    }\n",
       "</style>\n",
       "<table border=\"1\" class=\"dataframe\">\n",
       "  <thead>\n",
       "    <tr style=\"text-align: right;\">\n",
       "      <th></th>\n",
       "      <th>Company</th>\n",
       "      <th>Age</th>\n",
       "      <th>Salary</th>\n",
       "      <th>Place</th>\n",
       "      <th>Country</th>\n",
       "      <th>Gender</th>\n",
       "    </tr>\n",
       "  </thead>\n",
       "  <tbody>\n",
       "    <tr>\n",
       "      <th>0</th>\n",
       "      <td>TCS</td>\n",
       "      <td>20.0</td>\n",
       "      <td>NaN</td>\n",
       "      <td>Chennai</td>\n",
       "      <td>India</td>\n",
       "      <td>0</td>\n",
       "    </tr>\n",
       "    <tr>\n",
       "      <th>1</th>\n",
       "      <td>Infosys</td>\n",
       "      <td>30.0</td>\n",
       "      <td>NaN</td>\n",
       "      <td>Mumbai</td>\n",
       "      <td>India</td>\n",
       "      <td>0</td>\n",
       "    </tr>\n",
       "    <tr>\n",
       "      <th>2</th>\n",
       "      <td>TCS</td>\n",
       "      <td>35.0</td>\n",
       "      <td>2300.0</td>\n",
       "      <td>Calcutta</td>\n",
       "      <td>India</td>\n",
       "      <td>0</td>\n",
       "    </tr>\n",
       "    <tr>\n",
       "      <th>3</th>\n",
       "      <td>Infosys</td>\n",
       "      <td>40.0</td>\n",
       "      <td>3000.0</td>\n",
       "      <td>Delhi</td>\n",
       "      <td>India</td>\n",
       "      <td>0</td>\n",
       "    </tr>\n",
       "    <tr>\n",
       "      <th>4</th>\n",
       "      <td>TCS</td>\n",
       "      <td>23.0</td>\n",
       "      <td>4000.0</td>\n",
       "      <td>Mumbai</td>\n",
       "      <td>India</td>\n",
       "      <td>0</td>\n",
       "    </tr>\n",
       "  </tbody>\n",
       "</table>\n",
       "</div>"
      ],
      "text/plain": [
       "   Company   Age  Salary     Place Country  Gender\n",
       "0      TCS  20.0     NaN   Chennai   India       0\n",
       "1  Infosys  30.0     NaN    Mumbai   India       0\n",
       "2      TCS  35.0  2300.0  Calcutta   India       0\n",
       "3  Infosys  40.0  3000.0     Delhi   India       0\n",
       "4      TCS  23.0  4000.0    Mumbai   India       0"
      ]
     },
     "execution_count": 1509,
     "metadata": {},
     "output_type": "execute_result"
    }
   ],
   "source": [
    "data=pd.read_csv(\"Employee.csv\")\n",
    "data.head()"
   ]
  },
  {
   "cell_type": "code",
   "execution_count": 1511,
   "id": "2fae5c35-1a60-4dc2-8751-8aa8e38d584d",
   "metadata": {},
   "outputs": [
    {
     "name": "stdout",
     "output_type": "stream",
     "text": [
      "<class 'pandas.core.frame.DataFrame'>\n",
      "RangeIndex: 148 entries, 0 to 147\n",
      "Data columns (total 6 columns):\n",
      " #   Column   Non-Null Count  Dtype  \n",
      "---  ------   --------------  -----  \n",
      " 0   Company  140 non-null    object \n",
      " 1   Age      130 non-null    float64\n",
      " 2   Salary   124 non-null    float64\n",
      " 3   Place    134 non-null    object \n",
      " 4   Country  148 non-null    object \n",
      " 5   Gender   148 non-null    int64  \n",
      "dtypes: float64(2), int64(1), object(3)\n",
      "memory usage: 7.1+ KB\n"
     ]
    }
   ],
   "source": [
    "data.info()"
   ]
  },
  {
   "cell_type": "markdown",
   "id": "3289e181-c9c9-412d-ab9c-8031cf23d5f7",
   "metadata": {},
   "source": [
    "## Question 1: Data Exploration\n",
    "## Explore the data, list down the unique values in each feature and find its length.Perform the statistical analysis and renaming of the columns"
   ]
  },
  {
   "cell_type": "raw",
   "id": "31770563-1639-4291-b3cc-29945efaea7c",
   "metadata": {},
   "source": [
    "a. Unique value and count"
   ]
  },
  {
   "cell_type": "code",
   "execution_count": 1514,
   "id": "6b9061b1-7471-4382-83e2-dd27dc9fd816",
   "metadata": {},
   "outputs": [
    {
     "name": "stdout",
     "output_type": "stream",
     "text": [
      "Company: 6 unique values -> ['TCS', 'Infosys', 'CTS', 'Tata Consultancy Services', 'Congnizant', 'Infosys Pvt Lmt']\n",
      "\n",
      "Age: 29 unique values -> [20.0, 30.0, 35.0, 40.0, 23.0, 34.0, 45.0, 18.0, 22.0, 32.0, 37.0, 50.0, 21.0, 46.0, 36.0, 26.0, 41.0, 24.0, 25.0, 43.0, 19.0, 38.0, 51.0, 31.0, 44.0, 33.0, 17.0, 0.0, 54.0]\n",
      "\n",
      "Salary: 40 unique values -> [2300.0, 3000.0, 4000.0, 5000.0, 6000.0, 7000.0, 8000.0, 9000.0, 1089.0, 1234.0, 3030.0, 3045.0, 3184.0, 4824.0, 5835.0, 7084.0, 8943.0, 8345.0, 9284.0, 9876.0, 2034.0, 7654.0, 2934.0, 4034.0, 5034.0, 8202.0, 9024.0, 4345.0, 6544.0, 6543.0, 3234.0, 4324.0, 5435.0, 5555.0, 8787.0, 3454.0, 5654.0, 5009.0, 5098.0, 3033.0]\n",
      "\n",
      "Place: 11 unique values -> ['Chennai', 'Mumbai', 'Calcutta', 'Delhi', 'Podicherry', 'Cochin', 'Noida', 'Hyderabad', 'Bhopal', 'Nagpur', 'Pune']\n",
      "\n",
      "Country: 1 unique values -> ['India']\n",
      "\n",
      "Gender: 2 unique values -> [0, 1]\n",
      "\n"
     ]
    }
   ],
   "source": [
    "unique_values = {col: data[col].dropna().unique().tolist() for col in data.columns}\n",
    "unique_counts = {col: len(data[col].dropna().unique()) for col in data.columns}\n",
    "for col, values in unique_values.items():\n",
    "    print(f\"{col}: {unique_counts[col]} unique values -> {values}\\n\")"
   ]
  },
  {
   "cell_type": "raw",
   "id": "943425bb-1075-4bb7-9793-30fb40e0eda6",
   "metadata": {},
   "source": [
    "b. Length of unique values"
   ]
  },
  {
   "cell_type": "code",
   "execution_count": 1516,
   "id": "cf60a352-e754-4277-8204-33cc08c034e3",
   "metadata": {},
   "outputs": [
    {
     "name": "stdout",
     "output_type": "stream",
     "text": [
      "Length of unique values\n",
      " Company     6\n",
      "Age        29\n",
      "Salary     40\n",
      "Place      11\n",
      "Country     1\n",
      "Gender      2\n",
      "dtype: int64\n"
     ]
    }
   ],
   "source": [
    "length_unique=data.nunique()\n",
    "print (\"Length of unique values\\n\",length_unique)"
   ]
  },
  {
   "cell_type": "raw",
   "id": "d0aff15d-c204-4dba-a7b0-51442d565a74",
   "metadata": {},
   "source": [
    "c. Statistical Analysis"
   ]
  },
  {
   "cell_type": "code",
   "execution_count": 1520,
   "id": "812af9c7-57b8-4a76-a2d3-6befd44f8b65",
   "metadata": {},
   "outputs": [
    {
     "data": {
      "text/html": [
       "<div>\n",
       "<style scoped>\n",
       "    .dataframe tbody tr th:only-of-type {\n",
       "        vertical-align: middle;\n",
       "    }\n",
       "\n",
       "    .dataframe tbody tr th {\n",
       "        vertical-align: top;\n",
       "    }\n",
       "\n",
       "    .dataframe thead th {\n",
       "        text-align: right;\n",
       "    }\n",
       "</style>\n",
       "<table border=\"1\" class=\"dataframe\">\n",
       "  <thead>\n",
       "    <tr style=\"text-align: right;\">\n",
       "      <th></th>\n",
       "      <th>Age</th>\n",
       "      <th>Salary</th>\n",
       "      <th>Gender</th>\n",
       "    </tr>\n",
       "  </thead>\n",
       "  <tbody>\n",
       "    <tr>\n",
       "      <th>count</th>\n",
       "      <td>130.000000</td>\n",
       "      <td>124.000000</td>\n",
       "      <td>148.000000</td>\n",
       "    </tr>\n",
       "    <tr>\n",
       "      <th>mean</th>\n",
       "      <td>30.484615</td>\n",
       "      <td>5312.467742</td>\n",
       "      <td>0.222973</td>\n",
       "    </tr>\n",
       "    <tr>\n",
       "      <th>std</th>\n",
       "      <td>11.096640</td>\n",
       "      <td>2573.764683</td>\n",
       "      <td>0.417654</td>\n",
       "    </tr>\n",
       "    <tr>\n",
       "      <th>min</th>\n",
       "      <td>0.000000</td>\n",
       "      <td>1089.000000</td>\n",
       "      <td>0.000000</td>\n",
       "    </tr>\n",
       "    <tr>\n",
       "      <th>25%</th>\n",
       "      <td>22.000000</td>\n",
       "      <td>3030.000000</td>\n",
       "      <td>0.000000</td>\n",
       "    </tr>\n",
       "    <tr>\n",
       "      <th>50%</th>\n",
       "      <td>32.500000</td>\n",
       "      <td>5000.000000</td>\n",
       "      <td>0.000000</td>\n",
       "    </tr>\n",
       "    <tr>\n",
       "      <th>75%</th>\n",
       "      <td>37.750000</td>\n",
       "      <td>8000.000000</td>\n",
       "      <td>0.000000</td>\n",
       "    </tr>\n",
       "    <tr>\n",
       "      <th>max</th>\n",
       "      <td>54.000000</td>\n",
       "      <td>9876.000000</td>\n",
       "      <td>1.000000</td>\n",
       "    </tr>\n",
       "  </tbody>\n",
       "</table>\n",
       "</div>"
      ],
      "text/plain": [
       "              Age       Salary      Gender\n",
       "count  130.000000   124.000000  148.000000\n",
       "mean    30.484615  5312.467742    0.222973\n",
       "std     11.096640  2573.764683    0.417654\n",
       "min      0.000000  1089.000000    0.000000\n",
       "25%     22.000000  3030.000000    0.000000\n",
       "50%     32.500000  5000.000000    0.000000\n",
       "75%     37.750000  8000.000000    0.000000\n",
       "max     54.000000  9876.000000    1.000000"
      ]
     },
     "execution_count": 1520,
     "metadata": {},
     "output_type": "execute_result"
    }
   ],
   "source": [
    "data.describe()"
   ]
  },
  {
   "cell_type": "raw",
   "id": "dd252415-abf8-4eef-9130-b5233f902db9",
   "metadata": {},
   "source": [
    "c. Renaming of columns"
   ]
  },
  {
   "cell_type": "code",
   "execution_count": 1522,
   "id": "97b201ca-f2f2-49bd-bdab-00970ee87d1c",
   "metadata": {},
   "outputs": [],
   "source": [
    "data.rename(columns={\n",
    "                 'Company':'Company_Name',\n",
    "                 'Age':'Emp_Age',\n",
    "                 'Salary':'Emp_Salary',\n",
    "                 'Place':'Location',\n",
    "                 'Country':'Country_Name',\n",
    "                 'Gender':'Sex'\n",
    "                 },inplace=True)"
   ]
  },
  {
   "cell_type": "code",
   "execution_count": 1524,
   "id": "f5335c29-c720-474a-b734-2249d27d91b9",
   "metadata": {},
   "outputs": [
    {
     "data": {
      "text/html": [
       "<div>\n",
       "<style scoped>\n",
       "    .dataframe tbody tr th:only-of-type {\n",
       "        vertical-align: middle;\n",
       "    }\n",
       "\n",
       "    .dataframe tbody tr th {\n",
       "        vertical-align: top;\n",
       "    }\n",
       "\n",
       "    .dataframe thead th {\n",
       "        text-align: right;\n",
       "    }\n",
       "</style>\n",
       "<table border=\"1\" class=\"dataframe\">\n",
       "  <thead>\n",
       "    <tr style=\"text-align: right;\">\n",
       "      <th></th>\n",
       "      <th>Company_Name</th>\n",
       "      <th>Emp_Age</th>\n",
       "      <th>Emp_Salary</th>\n",
       "      <th>Location</th>\n",
       "      <th>Country_Name</th>\n",
       "      <th>Sex</th>\n",
       "    </tr>\n",
       "  </thead>\n",
       "  <tbody>\n",
       "    <tr>\n",
       "      <th>0</th>\n",
       "      <td>TCS</td>\n",
       "      <td>20.0</td>\n",
       "      <td>NaN</td>\n",
       "      <td>Chennai</td>\n",
       "      <td>India</td>\n",
       "      <td>0</td>\n",
       "    </tr>\n",
       "    <tr>\n",
       "      <th>1</th>\n",
       "      <td>Infosys</td>\n",
       "      <td>30.0</td>\n",
       "      <td>NaN</td>\n",
       "      <td>Mumbai</td>\n",
       "      <td>India</td>\n",
       "      <td>0</td>\n",
       "    </tr>\n",
       "    <tr>\n",
       "      <th>2</th>\n",
       "      <td>TCS</td>\n",
       "      <td>35.0</td>\n",
       "      <td>2300.0</td>\n",
       "      <td>Calcutta</td>\n",
       "      <td>India</td>\n",
       "      <td>0</td>\n",
       "    </tr>\n",
       "    <tr>\n",
       "      <th>3</th>\n",
       "      <td>Infosys</td>\n",
       "      <td>40.0</td>\n",
       "      <td>3000.0</td>\n",
       "      <td>Delhi</td>\n",
       "      <td>India</td>\n",
       "      <td>0</td>\n",
       "    </tr>\n",
       "    <tr>\n",
       "      <th>4</th>\n",
       "      <td>TCS</td>\n",
       "      <td>23.0</td>\n",
       "      <td>4000.0</td>\n",
       "      <td>Mumbai</td>\n",
       "      <td>India</td>\n",
       "      <td>0</td>\n",
       "    </tr>\n",
       "  </tbody>\n",
       "</table>\n",
       "</div>"
      ],
      "text/plain": [
       "  Company_Name  Emp_Age  Emp_Salary  Location Country_Name  Sex\n",
       "0          TCS     20.0         NaN   Chennai        India    0\n",
       "1      Infosys     30.0         NaN    Mumbai        India    0\n",
       "2          TCS     35.0      2300.0  Calcutta        India    0\n",
       "3      Infosys     40.0      3000.0     Delhi        India    0\n",
       "4          TCS     23.0      4000.0    Mumbai        India    0"
      ]
     },
     "execution_count": 1524,
     "metadata": {},
     "output_type": "execute_result"
    }
   ],
   "source": [
    "data.head()"
   ]
  },
  {
   "cell_type": "markdown",
   "id": "371ecd34-7059-4c32-a6f3-b58c959bc08e",
   "metadata": {},
   "source": [
    "# Question 2 :Data Cleaning\n",
    "## Find the missing and inappropriate values, treat them appropriately.Remove all duplicate rows.Find the outliers.Replace the value 0 in age as NaN\n",
    "## Treat the null values in all columns using any measures(removing/ replace the values with mean/median/mode)\n"
   ]
  },
  {
   "cell_type": "raw",
   "id": "bcb2d235-48ec-4c98-b682-b39b12637c69",
   "metadata": {},
   "source": [
    "a.Find the missing and inappropriate values"
   ]
  },
  {
   "cell_type": "code",
   "execution_count": 1527,
   "id": "dfc64fc0-a1ee-4e81-8a92-bd874c052e44",
   "metadata": {},
   "outputs": [
    {
     "data": {
      "text/plain": [
       "Company_Name     8\n",
       "Emp_Age         18\n",
       "Emp_Salary      24\n",
       "Location        14\n",
       "Country_Name     0\n",
       "Sex              0\n",
       "dtype: int64"
      ]
     },
     "execution_count": 1527,
     "metadata": {},
     "output_type": "execute_result"
    }
   ],
   "source": [
    "data.isnull().sum()"
   ]
  },
  {
   "cell_type": "raw",
   "id": "da294e44-651d-4cee-858a-23c99d10a3c8",
   "metadata": {},
   "source": [
    "b.Remove all duplicate rows."
   ]
  },
  {
   "cell_type": "code",
   "execution_count": 1529,
   "id": "7c912ff9-2135-4408-beb9-a30e14629d50",
   "metadata": {},
   "outputs": [
    {
     "data": {
      "text/plain": [
       "4"
      ]
     },
     "execution_count": 1529,
     "metadata": {},
     "output_type": "execute_result"
    }
   ],
   "source": [
    "# Checking for duplicate rows\n",
    "data.duplicated().sum()"
   ]
  },
  {
   "cell_type": "code",
   "execution_count": 1531,
   "id": "fb08fcde-77e9-4f34-8092-b484d02702ae",
   "metadata": {},
   "outputs": [
    {
     "name": "stdout",
     "output_type": "stream",
     "text": [
      "    Company_Name  Emp_Age  Emp_Salary  Location Country_Name  Sex\n",
      "84           CTS     43.0         NaN    Mumbai        India    0\n",
      "130          TCS     21.0      4824.0    Mumbai        India    0\n",
      "131      Infosys      NaN      5835.0    Mumbai        India    0\n",
      "144      Infosys     22.0      8787.0  Calcutta        India    1\n"
     ]
    }
   ],
   "source": [
    "# Displaying duplicate rows\n",
    "duplicate_rows = data[data.duplicated()]\n",
    "print(duplicate_rows)"
   ]
  },
  {
   "cell_type": "code",
   "execution_count": 1533,
   "id": "989db12e-8795-40d1-8f03-23961ef8c83a",
   "metadata": {},
   "outputs": [],
   "source": [
    "# removing duplicate rows\n",
    "data.drop_duplicates(inplace=True)"
   ]
  },
  {
   "cell_type": "code",
   "execution_count": 1535,
   "id": "a3295a5e-1de2-49e6-a5cf-05758e870cfa",
   "metadata": {},
   "outputs": [
    {
     "data": {
      "text/plain": [
       "0"
      ]
     },
     "execution_count": 1535,
     "metadata": {},
     "output_type": "execute_result"
    }
   ],
   "source": [
    " # Checking for duplicate rows after removing\n",
    "data.duplicated().sum()"
   ]
  },
  {
   "cell_type": "raw",
   "id": "9ba765cb-6a66-4309-b245-38863453d1e2",
   "metadata": {},
   "source": [
    "c.Replace the value 0 in age as NaN"
   ]
  },
  {
   "cell_type": "code",
   "execution_count": 1537,
   "id": "f2636e4b-f771-4c9d-8c4c-0315712a1309",
   "metadata": {},
   "outputs": [],
   "source": [
    "data['Emp_Age']=data['Emp_Age'].replace(0,np.nan)"
   ]
  },
  {
   "cell_type": "code",
   "execution_count": 1539,
   "id": "71b0e251-7fc1-40a7-900d-3a0df2101a68",
   "metadata": {},
   "outputs": [
    {
     "data": {
      "text/html": [
       "<div>\n",
       "<style scoped>\n",
       "    .dataframe tbody tr th:only-of-type {\n",
       "        vertical-align: middle;\n",
       "    }\n",
       "\n",
       "    .dataframe tbody tr th {\n",
       "        vertical-align: top;\n",
       "    }\n",
       "\n",
       "    .dataframe thead th {\n",
       "        text-align: right;\n",
       "    }\n",
       "</style>\n",
       "<table border=\"1\" class=\"dataframe\">\n",
       "  <thead>\n",
       "    <tr style=\"text-align: right;\">\n",
       "      <th></th>\n",
       "      <th>Company_Name</th>\n",
       "      <th>Emp_Age</th>\n",
       "      <th>Emp_Salary</th>\n",
       "      <th>Location</th>\n",
       "      <th>Country_Name</th>\n",
       "      <th>Sex</th>\n",
       "    </tr>\n",
       "  </thead>\n",
       "  <tbody>\n",
       "    <tr>\n",
       "      <th>102</th>\n",
       "      <td>CTS</td>\n",
       "      <td>44.0</td>\n",
       "      <td>NaN</td>\n",
       "      <td>Mumbai</td>\n",
       "      <td>India</td>\n",
       "      <td>0</td>\n",
       "    </tr>\n",
       "    <tr>\n",
       "      <th>103</th>\n",
       "      <td>CTS</td>\n",
       "      <td>22.0</td>\n",
       "      <td>2934.0</td>\n",
       "      <td>Calcutta</td>\n",
       "      <td>India</td>\n",
       "      <td>0</td>\n",
       "    </tr>\n",
       "    <tr>\n",
       "      <th>104</th>\n",
       "      <td>Infosys</td>\n",
       "      <td>44.0</td>\n",
       "      <td>4034.0</td>\n",
       "      <td>Delhi</td>\n",
       "      <td>India</td>\n",
       "      <td>0</td>\n",
       "    </tr>\n",
       "    <tr>\n",
       "      <th>105</th>\n",
       "      <td>TCS</td>\n",
       "      <td>33.0</td>\n",
       "      <td>5034.0</td>\n",
       "      <td>Mumbai</td>\n",
       "      <td>India</td>\n",
       "      <td>0</td>\n",
       "    </tr>\n",
       "    <tr>\n",
       "      <th>106</th>\n",
       "      <td>Infosys</td>\n",
       "      <td>22.0</td>\n",
       "      <td>8202.0</td>\n",
       "      <td>Cochin</td>\n",
       "      <td>India</td>\n",
       "      <td>1</td>\n",
       "    </tr>\n",
       "    <tr>\n",
       "      <th>107</th>\n",
       "      <td>TCS</td>\n",
       "      <td>NaN</td>\n",
       "      <td>9024.0</td>\n",
       "      <td>Chennai</td>\n",
       "      <td>India</td>\n",
       "      <td>1</td>\n",
       "    </tr>\n",
       "    <tr>\n",
       "      <th>108</th>\n",
       "      <td>TCS</td>\n",
       "      <td>33.0</td>\n",
       "      <td>NaN</td>\n",
       "      <td>Mumbai</td>\n",
       "      <td>India</td>\n",
       "      <td>0</td>\n",
       "    </tr>\n",
       "    <tr>\n",
       "      <th>109</th>\n",
       "      <td>NaN</td>\n",
       "      <td>33.0</td>\n",
       "      <td>NaN</td>\n",
       "      <td>Calcutta</td>\n",
       "      <td>India</td>\n",
       "      <td>0</td>\n",
       "    </tr>\n",
       "    <tr>\n",
       "      <th>110</th>\n",
       "      <td>TCS</td>\n",
       "      <td>33.0</td>\n",
       "      <td>2300.0</td>\n",
       "      <td>Delhi</td>\n",
       "      <td>India</td>\n",
       "      <td>0</td>\n",
       "    </tr>\n",
       "    <tr>\n",
       "      <th>111</th>\n",
       "      <td>Infosys</td>\n",
       "      <td>NaN</td>\n",
       "      <td>3234.0</td>\n",
       "      <td>Mumbai</td>\n",
       "      <td>India</td>\n",
       "      <td>0</td>\n",
       "    </tr>\n",
       "    <tr>\n",
       "      <th>112</th>\n",
       "      <td>TCS</td>\n",
       "      <td>22.0</td>\n",
       "      <td>4324.0</td>\n",
       "      <td>Cochin</td>\n",
       "      <td>India</td>\n",
       "      <td>0</td>\n",
       "    </tr>\n",
       "    <tr>\n",
       "      <th>113</th>\n",
       "      <td>Infosys</td>\n",
       "      <td>NaN</td>\n",
       "      <td>5435.0</td>\n",
       "      <td>Chennai</td>\n",
       "      <td>India</td>\n",
       "      <td>0</td>\n",
       "    </tr>\n",
       "    <tr>\n",
       "      <th>114</th>\n",
       "      <td>TCS</td>\n",
       "      <td>NaN</td>\n",
       "      <td>5555.0</td>\n",
       "      <td>Mumbai</td>\n",
       "      <td>India</td>\n",
       "      <td>0</td>\n",
       "    </tr>\n",
       "    <tr>\n",
       "      <th>115</th>\n",
       "      <td>Infosys</td>\n",
       "      <td>22.0</td>\n",
       "      <td>8787.0</td>\n",
       "      <td>Calcutta</td>\n",
       "      <td>India</td>\n",
       "      <td>0</td>\n",
       "    </tr>\n",
       "  </tbody>\n",
       "</table>\n",
       "</div>"
      ],
      "text/plain": [
       "    Company_Name  Emp_Age  Emp_Salary  Location Country_Name  Sex\n",
       "102          CTS     44.0         NaN    Mumbai        India    0\n",
       "103          CTS     22.0      2934.0  Calcutta        India    0\n",
       "104      Infosys     44.0      4034.0     Delhi        India    0\n",
       "105          TCS     33.0      5034.0    Mumbai        India    0\n",
       "106      Infosys     22.0      8202.0    Cochin        India    1\n",
       "107          TCS      NaN      9024.0   Chennai        India    1\n",
       "108          TCS     33.0         NaN    Mumbai        India    0\n",
       "109          NaN     33.0         NaN  Calcutta        India    0\n",
       "110          TCS     33.0      2300.0     Delhi        India    0\n",
       "111      Infosys      NaN      3234.0    Mumbai        India    0\n",
       "112          TCS     22.0      4324.0    Cochin        India    0\n",
       "113      Infosys      NaN      5435.0   Chennai        India    0\n",
       "114          TCS      NaN      5555.0    Mumbai        India    0\n",
       "115      Infosys     22.0      8787.0  Calcutta        India    0"
      ]
     },
     "execution_count": 1539,
     "metadata": {},
     "output_type": "execute_result"
    }
   ],
   "source": [
    "# After replacing value of age as NaN\n",
    "\n",
    "data.iloc[101:115]"
   ]
  },
  {
   "cell_type": "raw",
   "id": "9653a533-6097-434a-ae5c-91cbf9f9a842",
   "metadata": {},
   "source": [
    "d.Find the outliers."
   ]
  },
  {
   "cell_type": "code",
   "execution_count": 1541,
   "id": "fe464502-211e-4c16-aa9f-d2e37ccd60aa",
   "metadata": {},
   "outputs": [
    {
     "name": "stdout",
     "output_type": "stream",
     "text": [
      "Emp_Age Outliers\n",
      "Q1: 23.0\n",
      "Q3: 40.0\n",
      "IQR: 17.0\n",
      "Lower Bound: -2.5\n",
      "Upper Bound: 65.5\n"
     ]
    }
   ],
   "source": [
    "# Outlier for Emp_Age\n",
    "Q1 = data['Emp_Age'].quantile(0.25)\n",
    "Q3= data['Emp_Age'].quantile(0.75)\n",
    "IQR= Q3 - Q1\n",
    "\n",
    "lower_bound = Q1 - 1.5 * IQR\n",
    "upper_bound = Q3+ 1.5 * IQR\n",
    "\n",
    "print(\"Emp_Age Outliers\")\n",
    "print(f\"Q1: {Q1}\")\n",
    "print(f\"Q3: {Q3}\")\n",
    "print(f\"IQR: {IQR}\")\n",
    "print(f\"Lower Bound: {lower_bound}\")\n",
    "print(f\"Upper Bound: {upper_bound}\")\n",
    "\n",
    "outliers_age = data[(data['Emp_Age'] < lower_bound) | (data['Emp_Age'] > upper_bound)]"
   ]
  },
  {
   "cell_type": "code",
   "execution_count": 1543,
   "id": "c22a7f6f-bd5e-4917-9594-19e55a808a86",
   "metadata": {},
   "outputs": [
    {
     "name": "stdout",
     "output_type": "stream",
     "text": [
      "Emp_Salary Outliers\n",
      "Q1: 3030.0\n",
      "Q3: 8000.0\n",
      "IQR: 4970.0\n",
      "Lower Bound: -4425.0\n",
      "Upper Bound: 15455.0\n"
     ]
    }
   ],
   "source": [
    "Q1 = data['Emp_Salary'].quantile(0.25)\n",
    "Q3= data['Emp_Salary'].quantile(0.75)\n",
    "IQR= Q3 - Q1\n",
    "\n",
    "lower_bound = Q1 - 1.5 * IQR\n",
    "upper_bound = Q3+ 1.5 * IQR\n",
    "\n",
    "print(\"Emp_Salary Outliers\")\n",
    "print(f\"Q1: {Q1}\")\n",
    "print(f\"Q3: {Q3}\")\n",
    "print(f\"IQR: {IQR}\")\n",
    "print(f\"Lower Bound: {lower_bound}\")\n",
    "print(f\"Upper Bound: {upper_bound}\")"
   ]
  },
  {
   "cell_type": "raw",
   "id": "e615a91b-7b8e-4663-b85c-30f8edfa36e1",
   "metadata": {},
   "source": [
    "e.Treat the null values in all columns using any measures(removing/ replace the values with mean/median/mode)"
   ]
  },
  {
   "cell_type": "code",
   "execution_count": 1708,
   "id": "e1f36dd8-7fa0-4495-b988-016220b1d90b",
   "metadata": {},
   "outputs": [
    {
     "data": {
      "text/plain": [
       "Company_Name    0\n",
       "Emp_Age         0\n",
       "Emp_Salary      0\n",
       "Location        0\n",
       "Country_Name    0\n",
       "Sex             0\n",
       "dtype: int64"
      ]
     },
     "execution_count": 1708,
     "metadata": {},
     "output_type": "execute_result"
    }
   ],
   "source": [
    "data.isnull().sum()"
   ]
  },
  {
   "cell_type": "raw",
   "id": "2cdc578d-f802-4958-aa92-f2926d4f4d0a",
   "metadata": {},
   "source": [
    "Treating missing values:\n",
    "1. Numerical column using median\n",
    "2.Categorical column using mode"
   ]
  },
  {
   "cell_type": "code",
   "execution_count": 1547,
   "id": "1ac3b09d-ec47-4189-acfc-056d12c5076d",
   "metadata": {},
   "outputs": [
    {
     "name": "stderr",
     "output_type": "stream",
     "text": [
      "C:\\Users\\sam00\\AppData\\Local\\Temp\\ipykernel_2956\\1864434096.py:1: FutureWarning: A value is trying to be set on a copy of a DataFrame or Series through chained assignment using an inplace method.\n",
      "The behavior will change in pandas 3.0. This inplace method will never work because the intermediate object on which we are setting values always behaves as a copy.\n",
      "\n",
      "For example, when doing 'df[col].method(value, inplace=True)', try using 'df.method({col: value}, inplace=True)' or df[col] = df[col].method(value) instead, to perform the operation inplace on the original object.\n",
      "\n",
      "\n",
      "  data['Emp_Age'].fillna(data['Emp_Age'].median(),inplace=True)              # Numerical column null value is replaced with median\n",
      "C:\\Users\\sam00\\AppData\\Local\\Temp\\ipykernel_2956\\1864434096.py:2: FutureWarning: A value is trying to be set on a copy of a DataFrame or Series through chained assignment using an inplace method.\n",
      "The behavior will change in pandas 3.0. This inplace method will never work because the intermediate object on which we are setting values always behaves as a copy.\n",
      "\n",
      "For example, when doing 'df[col].method(value, inplace=True)', try using 'df.method({col: value}, inplace=True)' or df[col] = df[col].method(value) instead, to perform the operation inplace on the original object.\n",
      "\n",
      "\n",
      "  data['Emp_Salary'].fillna(data['Emp_Salary'].median(),inplace=True)        # Numerical column null value is replaced with median\n",
      "C:\\Users\\sam00\\AppData\\Local\\Temp\\ipykernel_2956\\1864434096.py:3: FutureWarning: A value is trying to be set on a copy of a DataFrame or Series through chained assignment using an inplace method.\n",
      "The behavior will change in pandas 3.0. This inplace method will never work because the intermediate object on which we are setting values always behaves as a copy.\n",
      "\n",
      "For example, when doing 'df[col].method(value, inplace=True)', try using 'df.method({col: value}, inplace=True)' or df[col] = df[col].method(value) instead, to perform the operation inplace on the original object.\n",
      "\n",
      "\n",
      "  data['Company_Name'].fillna(data['Company_Name'].mode()[0],inplace=True)   # Categorical column null value is replaced with mode.\n",
      "C:\\Users\\sam00\\AppData\\Local\\Temp\\ipykernel_2956\\1864434096.py:5: FutureWarning: A value is trying to be set on a copy of a DataFrame or Series through chained assignment using an inplace method.\n",
      "The behavior will change in pandas 3.0. This inplace method will never work because the intermediate object on which we are setting values always behaves as a copy.\n",
      "\n",
      "For example, when doing 'df[col].method(value, inplace=True)', try using 'df.method({col: value}, inplace=True)' or df[col] = df[col].method(value) instead, to perform the operation inplace on the original object.\n",
      "\n",
      "\n",
      "  data['Location'].fillna(data['Location'].mode()[0],inplace=True)           # Categorical column null value is replaced with mode\n"
     ]
    }
   ],
   "source": [
    "data['Emp_Age'].fillna(data['Emp_Age'].median(),inplace=True)              # Numerical column null value is replaced with median\n",
    "data['Emp_Salary'].fillna(data['Emp_Salary'].median(),inplace=True)        # Numerical column null value is replaced with median\n",
    "data['Company_Name'].fillna(data['Company_Name'].mode()[0],inplace=True)   # Categorical column null value is replaced with mode.\n",
    "                                                                           # mode() return a series frequent value. To get first most frequent.\n",
    "data['Location'].fillna(data['Location'].mode()[0],inplace=True)           # Categorical column null value is replaced with mode"
   ]
  },
  {
   "cell_type": "markdown",
   "id": "e2875100-2488-4e23-a20f-43446571103b",
   "metadata": {},
   "source": [
    "# Question 3 :Data Analysis\n",
    "## Filter the data with age >40 and salary<5000\n",
    "## Plot the chart with age and salary\n",
    "## Count the number of people from each place and represent it visually"
   ]
  },
  {
   "cell_type": "raw",
   "id": "5f472c9d-5e62-4cf7-9a58-a74392f220d7",
   "metadata": {},
   "source": [
    "a.Filter the data with age >40 and salary<5000"
   ]
  },
  {
   "cell_type": "code",
   "execution_count": 1550,
   "id": "562cb9b7-3eda-4a57-b363-82ac741cc37c",
   "metadata": {},
   "outputs": [
    {
     "name": "stdout",
     "output_type": "stream",
     "text": [
      "Data with Age > 40 & Salary < 5000):\n",
      "    Company_Name  Emp_Age  Emp_Salary   Location Country_Name  Sex\n",
      "21       Infosys     50.0      3184.0      Delhi        India    0\n",
      "32       Infosys     45.0      4034.0   Calcutta        India    0\n",
      "39       Infosys     41.0      3000.0     Mumbai        India    0\n",
      "50       Infosys     41.0      3000.0    Chennai        India    0\n",
      "57       Infosys     51.0      3184.0  Hyderabad        India    0\n",
      "68       Infosys     43.0      4034.0     Mumbai        India    0\n",
      "75       Infosys     44.0      3000.0     Cochin        India    0\n",
      "86       Infosys     41.0      3000.0      Delhi        India    0\n",
      "93       Infosys     54.0      3184.0     Mumbai        India    0\n",
      "104      Infosys     44.0      4034.0      Delhi        India    0\n",
      "122      Infosys     44.0      3234.0     Mumbai        India    0\n",
      "129      Infosys     50.0      3184.0   Calcutta        India    0\n",
      "138          CTS     44.0      3033.0     Cochin        India    0\n",
      "140      Infosys     44.0      4034.0  Hyderabad        India    0\n",
      "145      Infosys     44.0      4034.0      Delhi        India    1\n"
     ]
    }
   ],
   "source": [
    "filtered_data = data[(data['Emp_Age'] > 40) & (data['Emp_Salary'] < 5000)]\n",
    "print(\"Data with Age > 40 & Salary < 5000):\")\n",
    "print(filtered_data)"
   ]
  },
  {
   "cell_type": "raw",
   "id": "63503696-59a5-413a-b7f9-0597eaba983d",
   "metadata": {},
   "source": [
    "b.Plot the chart with age and salary"
   ]
  },
  {
   "cell_type": "code",
   "execution_count": 1589,
   "id": "c231bbf2-f131-4a19-a929-d26dba34a27f",
   "metadata": {},
   "outputs": [
    {
     "data": {
      "image/png": "[encoded data removed]",
      "text/plain": [
       "<Figure size 1000x500 with 1 Axes>"
      ]
     },
     "metadata": {},
     "output_type": "display_data"
    }
   ],
   "source": [
    "plt.figure(figsize=(10, 5))\n",
    "sns.barplot(data=filtered_data, x='Emp_Age',y='Emp_Salary', color='pink')\n",
    "plt.title('Age vs Salary')\n",
    "plt.xlabel('Employee Age')\n",
    "plt.ylabel('Employee Salary')\n",
    "plt.show()"
   ]
  },
  {
   "cell_type": "raw",
   "id": "3eca6f54-b36d-4867-b72d-652b5264e467",
   "metadata": {},
   "source": [
    "c.Count the number of people from each place and represent it visually"
   ]
  },
  {
   "cell_type": "code",
   "execution_count": 1591,
   "id": "5b82724a-5fe4-441d-aa0d-053101e9ba8e",
   "metadata": {},
   "outputs": [
    {
     "name": "stdout",
     "output_type": "stream",
     "text": [
      "Count of people location wise :\n",
      " Location\n",
      "Mumbai        48\n",
      "Calcutta      32\n",
      "Chennai       14\n",
      "Delhi         14\n",
      "Cochin        13\n",
      "Noida          8\n",
      "Hyderabad      8\n",
      "Podicherry     3\n",
      "Pune           2\n",
      "Bhopal         1\n",
      "Nagpur         1\n",
      "Name: count, dtype: int64\n"
     ]
    }
   ],
   "source": [
    "count_of_people=data['Location'].value_counts()\n",
    "print(\"Count of people location wise :\\n\",count_of_people)"
   ]
  },
  {
   "cell_type": "code",
   "execution_count": 1593,
   "id": "a0473113-f15e-4fcf-a67a-23500fd1d4a0",
   "metadata": {},
   "outputs": [
    {
     "data": {
      "image/png": "[encoded data removed]",
      "text/plain": [
       "<Figure size 1000x500 with 1 Axes>"
      ]
     },
     "metadata": {},
     "output_type": "display_data"
    }
   ],
   "source": [
    "plt.figure(figsize=(10, 5))\n",
    "sns.barplot(x=count_of_people.index, y=count_of_people.values,color='blue')\n",
    "plt.title('Population')\n",
    "plt.xlabel('Location')\n",
    "plt.ylabel('Count')\n",
    "plt.show()"
   ]
  },
  {
   "cell_type": "markdown",
   "id": "b5396d06-69f8-4322-8a76-6c0a557b128a",
   "metadata": {},
   "source": [
    "# Question 4: Data Encoding\n",
    "## Convert categorical variables into numerical representations using techniques such as one-hot encoding, label encoding, making them suitable for analysis by machine learning algorithms.\n"
   ]
  },
  {
   "cell_type": "markdown",
   "id": "f157df02-b5f5-4bc8-80df-cd10940ef087",
   "metadata": {},
   "source": [
    "## OneHotEncoding"
   ]
  },
  {
   "cell_type": "code",
   "execution_count": 1680,
   "id": "f9517df5-c6eb-41da-bfed-13a6335331aa",
   "metadata": {},
   "outputs": [],
   "source": [
    "# 1.Importing libarary\n",
    "\n",
    "# for xtrain and x test splitting\n",
    "from sklearn.model_selection import train_test_split\n",
    "\n",
    "# for One hot encoding\n",
    "from sklearn.preprocessing import OneHotEncoder\n"
   ]
  },
  {
   "cell_type": "code",
   "execution_count": 1682,
   "id": "1b128579-f907-4863-8935-e9b82b43040b",
   "metadata": {},
   "outputs": [
    {
     "name": "stdout",
     "output_type": "stream",
     "text": [
      "<class 'pandas.core.frame.DataFrame'>\n",
      "Index: 144 entries, 0 to 147\n",
      "Data columns (total 6 columns):\n",
      " #   Column        Non-Null Count  Dtype  \n",
      "---  ------        --------------  -----  \n",
      " 0   Company_Name  144 non-null    object \n",
      " 1   Emp_Age       144 non-null    float64\n",
      " 2   Emp_Salary    144 non-null    float64\n",
      " 3   Location      144 non-null    object \n",
      " 4   Country_Name  144 non-null    object \n",
      " 5   Sex           144 non-null    int64  \n",
      "dtypes: float64(2), int64(1), object(3)\n",
      "memory usage: 7.9+ KB\n"
     ]
    }
   ],
   "source": [
    "data.info()"
   ]
  },
  {
   "cell_type": "code",
   "execution_count": 1684,
   "id": "208fee37-61b1-437a-9254-aa357264dfa3",
   "metadata": {},
   "outputs": [],
   "source": [
    "# 2.Classifying the variables\n",
    "\n",
    "categorical_features = ['Company_Name','Location','Country_Name']\n",
    "numerical_features = ['Emp_Age','Emp_Salary']\n"
   ]
  },
  {
   "cell_type": "code",
   "execution_count": 1686,
   "id": "06624589-dc81-41e3-a60b-e66029fd220d",
   "metadata": {},
   "outputs": [],
   "source": [
    "# 3.Splitting the dataset to X and y\n",
    "X = data.drop(columns = ['Sex']) \n",
    "y = data['Sex']"
   ]
  },
  {
   "cell_type": "code",
   "execution_count": 1688,
   "id": "b5d9012f-4c95-437a-9422-33063fd8ec22",
   "metadata": {},
   "outputs": [
    {
     "data": {
      "text/html": [
       "<div>\n",
       "<style scoped>\n",
       "    .dataframe tbody tr th:only-of-type {\n",
       "        vertical-align: middle;\n",
       "    }\n",
       "\n",
       "    .dataframe tbody tr th {\n",
       "        vertical-align: top;\n",
       "    }\n",
       "\n",
       "    .dataframe thead th {\n",
       "        text-align: right;\n",
       "    }\n",
       "</style>\n",
       "<table border=\"1\" class=\"dataframe\">\n",
       "  <thead>\n",
       "    <tr style=\"text-align: right;\">\n",
       "      <th></th>\n",
       "      <th>Company_Name</th>\n",
       "      <th>Emp_Age</th>\n",
       "      <th>Emp_Salary</th>\n",
       "      <th>Location</th>\n",
       "      <th>Country_Name</th>\n",
       "    </tr>\n",
       "  </thead>\n",
       "  <tbody>\n",
       "    <tr>\n",
       "      <th>0</th>\n",
       "      <td>TCS</td>\n",
       "      <td>20.0</td>\n",
       "      <td>5000.0</td>\n",
       "      <td>Chennai</td>\n",
       "      <td>India</td>\n",
       "    </tr>\n",
       "    <tr>\n",
       "      <th>1</th>\n",
       "      <td>Infosys</td>\n",
       "      <td>30.0</td>\n",
       "      <td>5000.0</td>\n",
       "      <td>Mumbai</td>\n",
       "      <td>India</td>\n",
       "    </tr>\n",
       "    <tr>\n",
       "      <th>2</th>\n",
       "      <td>TCS</td>\n",
       "      <td>35.0</td>\n",
       "      <td>2300.0</td>\n",
       "      <td>Calcutta</td>\n",
       "      <td>India</td>\n",
       "    </tr>\n",
       "    <tr>\n",
       "      <th>3</th>\n",
       "      <td>Infosys</td>\n",
       "      <td>40.0</td>\n",
       "      <td>3000.0</td>\n",
       "      <td>Delhi</td>\n",
       "      <td>India</td>\n",
       "    </tr>\n",
       "    <tr>\n",
       "      <th>4</th>\n",
       "      <td>TCS</td>\n",
       "      <td>23.0</td>\n",
       "      <td>4000.0</td>\n",
       "      <td>Mumbai</td>\n",
       "      <td>India</td>\n",
       "    </tr>\n",
       "  </tbody>\n",
       "</table>\n",
       "</div>"
      ],
      "text/plain": [
       "  Company_Name  Emp_Age  Emp_Salary  Location Country_Name\n",
       "0          TCS     20.0      5000.0   Chennai        India\n",
       "1      Infosys     30.0      5000.0    Mumbai        India\n",
       "2          TCS     35.0      2300.0  Calcutta        India\n",
       "3      Infosys     40.0      3000.0     Delhi        India\n",
       "4          TCS     23.0      4000.0    Mumbai        India"
      ]
     },
     "execution_count": 1688,
     "metadata": {},
     "output_type": "execute_result"
    }
   ],
   "source": [
    "X.head()\n"
   ]
  },
  {
   "cell_type": "code",
   "execution_count": 1690,
   "id": "54aa500e-c1e3-4c14-ac9d-6e296c24691e",
   "metadata": {},
   "outputs": [
    {
     "data": {
      "text/plain": [
       "0    0\n",
       "1    0\n",
       "2    0\n",
       "3    0\n",
       "4    0\n",
       "Name: Sex, dtype: int64"
      ]
     },
     "execution_count": 1690,
     "metadata": {},
     "output_type": "execute_result"
    }
   ],
   "source": [
    "y.head()"
   ]
  },
  {
   "cell_type": "code",
   "execution_count": 1692,
   "id": "caee1063-c759-4ff8-835a-5ae3ee7ae59c",
   "metadata": {},
   "outputs": [],
   "source": [
    "# 4.Splitting to train test split\n",
    "X_train, X_test, y_train, y_test = train_test_split(X,y,test_size=0.2,random_state=42)"
   ]
  },
  {
   "cell_type": "code",
   "execution_count": 1694,
   "id": "5fd9c818-6046-4cde-b463-447894fb89d7",
   "metadata": {},
   "outputs": [],
   "source": [
    "# 5.one hot encoding\n",
    "ohe = OneHotEncoder(sparse_output=False) # one hot encoder\n",
    "X_train_cat = X_train[categorical_features]\n",
    "X_test_cat = X_test[categorical_features]\n",
    "\n",
    "\n",
    "X_train_cat_encoded = ohe.fit_transform(X_train_cat)\n",
    "X_test_cat_encoded = ohe.transform(X_test_cat)"
   ]
  },
  {
   "cell_type": "code",
   "execution_count": 1696,
   "id": "0070905d-8618-41a1-a1fc-2c9a681e0b75",
   "metadata": {},
   "outputs": [],
   "source": [
    "X_train_num = X_train[numerical_features]\n",
    "X_test_num = X_test[numerical_features]"
   ]
  },
  {
   "cell_type": "code",
   "execution_count": 1698,
   "id": "1594864b-a14a-4f48-b57b-3d7bd4211345",
   "metadata": {},
   "outputs": [
    {
     "data": {
      "text/html": [
       "<div>\n",
       "<style scoped>\n",
       "    .dataframe tbody tr th:only-of-type {\n",
       "        vertical-align: middle;\n",
       "    }\n",
       "\n",
       "    .dataframe tbody tr th {\n",
       "        vertical-align: top;\n",
       "    }\n",
       "\n",
       "    .dataframe thead th {\n",
       "        text-align: right;\n",
       "    }\n",
       "</style>\n",
       "<table border=\"1\" class=\"dataframe\">\n",
       "  <thead>\n",
       "    <tr style=\"text-align: right;\">\n",
       "      <th></th>\n",
       "      <th>Company_Name_CTS</th>\n",
       "      <th>Company_Name_Congnizant</th>\n",
       "      <th>Company_Name_Infosys</th>\n",
       "      <th>Company_Name_Infosys Pvt Lmt</th>\n",
       "      <th>Company_Name_TCS</th>\n",
       "      <th>Company_Name_Tata Consultancy Services</th>\n",
       "      <th>Location_Bhopal</th>\n",
       "      <th>Location_Calcutta</th>\n",
       "      <th>Location_Chennai</th>\n",
       "      <th>Location_Cochin</th>\n",
       "      <th>Location_Delhi</th>\n",
       "      <th>Location_Hyderabad</th>\n",
       "      <th>Location_Mumbai</th>\n",
       "      <th>Location_Nagpur</th>\n",
       "      <th>Location_Noida</th>\n",
       "      <th>Location_Podicherry</th>\n",
       "      <th>Location_Pune</th>\n",
       "      <th>Country_Name_India</th>\n",
       "    </tr>\n",
       "  </thead>\n",
       "  <tbody>\n",
       "    <tr>\n",
       "      <th>0</th>\n",
       "      <td>0.0</td>\n",
       "      <td>0.0</td>\n",
       "      <td>0.0</td>\n",
       "      <td>0.0</td>\n",
       "      <td>1.0</td>\n",
       "      <td>0.0</td>\n",
       "      <td>0.0</td>\n",
       "      <td>0.0</td>\n",
       "      <td>0.0</td>\n",
       "      <td>0.0</td>\n",
       "      <td>0.0</td>\n",
       "      <td>0.0</td>\n",
       "      <td>1.0</td>\n",
       "      <td>0.0</td>\n",
       "      <td>0.0</td>\n",
       "      <td>0.0</td>\n",
       "      <td>0.0</td>\n",
       "      <td>1.0</td>\n",
       "    </tr>\n",
       "    <tr>\n",
       "      <th>1</th>\n",
       "      <td>1.0</td>\n",
       "      <td>0.0</td>\n",
       "      <td>0.0</td>\n",
       "      <td>0.0</td>\n",
       "      <td>0.0</td>\n",
       "      <td>0.0</td>\n",
       "      <td>0.0</td>\n",
       "      <td>0.0</td>\n",
       "      <td>0.0</td>\n",
       "      <td>0.0</td>\n",
       "      <td>0.0</td>\n",
       "      <td>0.0</td>\n",
       "      <td>1.0</td>\n",
       "      <td>0.0</td>\n",
       "      <td>0.0</td>\n",
       "      <td>0.0</td>\n",
       "      <td>0.0</td>\n",
       "      <td>1.0</td>\n",
       "    </tr>\n",
       "    <tr>\n",
       "      <th>2</th>\n",
       "      <td>1.0</td>\n",
       "      <td>0.0</td>\n",
       "      <td>0.0</td>\n",
       "      <td>0.0</td>\n",
       "      <td>0.0</td>\n",
       "      <td>0.0</td>\n",
       "      <td>0.0</td>\n",
       "      <td>0.0</td>\n",
       "      <td>0.0</td>\n",
       "      <td>0.0</td>\n",
       "      <td>0.0</td>\n",
       "      <td>0.0</td>\n",
       "      <td>0.0</td>\n",
       "      <td>0.0</td>\n",
       "      <td>0.0</td>\n",
       "      <td>1.0</td>\n",
       "      <td>0.0</td>\n",
       "      <td>1.0</td>\n",
       "    </tr>\n",
       "    <tr>\n",
       "      <th>3</th>\n",
       "      <td>0.0</td>\n",
       "      <td>0.0</td>\n",
       "      <td>0.0</td>\n",
       "      <td>0.0</td>\n",
       "      <td>1.0</td>\n",
       "      <td>0.0</td>\n",
       "      <td>0.0</td>\n",
       "      <td>0.0</td>\n",
       "      <td>0.0</td>\n",
       "      <td>0.0</td>\n",
       "      <td>0.0</td>\n",
       "      <td>0.0</td>\n",
       "      <td>0.0</td>\n",
       "      <td>0.0</td>\n",
       "      <td>1.0</td>\n",
       "      <td>0.0</td>\n",
       "      <td>0.0</td>\n",
       "      <td>1.0</td>\n",
       "    </tr>\n",
       "    <tr>\n",
       "      <th>4</th>\n",
       "      <td>0.0</td>\n",
       "      <td>0.0</td>\n",
       "      <td>1.0</td>\n",
       "      <td>0.0</td>\n",
       "      <td>0.0</td>\n",
       "      <td>0.0</td>\n",
       "      <td>0.0</td>\n",
       "      <td>0.0</td>\n",
       "      <td>0.0</td>\n",
       "      <td>0.0</td>\n",
       "      <td>0.0</td>\n",
       "      <td>0.0</td>\n",
       "      <td>0.0</td>\n",
       "      <td>0.0</td>\n",
       "      <td>0.0</td>\n",
       "      <td>1.0</td>\n",
       "      <td>0.0</td>\n",
       "      <td>1.0</td>\n",
       "    </tr>\n",
       "  </tbody>\n",
       "</table>\n",
       "</div>"
      ],
      "text/plain": [
       "   Company_Name_CTS  Company_Name_Congnizant  Company_Name_Infosys  \\\n",
       "0               0.0                      0.0                   0.0   \n",
       "1               1.0                      0.0                   0.0   \n",
       "2               1.0                      0.0                   0.0   \n",
       "3               0.0                      0.0                   0.0   \n",
       "4               0.0                      0.0                   1.0   \n",
       "\n",
       "   Company_Name_Infosys Pvt Lmt  Company_Name_TCS  \\\n",
       "0                           0.0               1.0   \n",
       "1                           0.0               0.0   \n",
       "2                           0.0               0.0   \n",
       "3                           0.0               1.0   \n",
       "4                           0.0               0.0   \n",
       "\n",
       "   Company_Name_Tata Consultancy Services  Location_Bhopal  Location_Calcutta  \\\n",
       "0                                     0.0              0.0                0.0   \n",
       "1                                     0.0              0.0                0.0   \n",
       "2                                     0.0              0.0                0.0   \n",
       "3                                     0.0              0.0                0.0   \n",
       "4                                     0.0              0.0                0.0   \n",
       "\n",
       "   Location_Chennai  Location_Cochin  Location_Delhi  Location_Hyderabad  \\\n",
       "0               0.0              0.0             0.0                 0.0   \n",
       "1               0.0              0.0             0.0                 0.0   \n",
       "2               0.0              0.0             0.0                 0.0   \n",
       "3               0.0              0.0             0.0                 0.0   \n",
       "4               0.0              0.0             0.0                 0.0   \n",
       "\n",
       "   Location_Mumbai  Location_Nagpur  Location_Noida  Location_Podicherry  \\\n",
       "0              1.0              0.0             0.0                  0.0   \n",
       "1              1.0              0.0             0.0                  0.0   \n",
       "2              0.0              0.0             0.0                  1.0   \n",
       "3              0.0              0.0             1.0                  0.0   \n",
       "4              0.0              0.0             0.0                  1.0   \n",
       "\n",
       "   Location_Pune  Country_Name_India  \n",
       "0            0.0                 1.0  \n",
       "1            0.0                 1.0  \n",
       "2            0.0                 1.0  \n",
       "3            0.0                 1.0  \n",
       "4            0.0                 1.0  "
      ]
     },
     "execution_count": 1698,
     "metadata": {},
     "output_type": "execute_result"
    }
   ],
   "source": [
    "# 6. After encoding\n",
    "demo_features = ohe.get_feature_names_out(categorical_features)\n",
    "X_train_view = pd.DataFrame(X_train_cat_encoded, columns = demo_features)\n",
    "X_train_view.head()"
   ]
  },
  {
   "cell_type": "markdown",
   "id": "b55ace87-3445-455e-97f2-1f94a74bb8f7",
   "metadata": {},
   "source": [
    "# Label Encoding"
   ]
  },
  {
   "cell_type": "code",
   "execution_count": 1701,
   "id": "6792d7f6-2e40-4b07-ac3c-3e7dda4b7ab1",
   "metadata": {},
   "outputs": [],
   "source": [
    "# 1.Importing libarary\n",
    "\n",
    "from sklearn.preprocessing import LabelEncoder"
   ]
  },
  {
   "cell_type": "code",
   "execution_count": 1703,
   "id": "7a613ae3-17eb-4bb4-a30f-cece8f9b0dca",
   "metadata": {},
   "outputs": [],
   "source": [
    "# Encoding categorical features\n",
    "categorical_features = ['Company_Name','Location','Country_Name']\n",
    "data_encoded=data.copy()\n",
    "for col in categorical_features:\n",
    "    le = LabelEncoder()\n",
    "    data_encoded[col] = le.fit_transform(data_encoded[col])"
   ]
  },
  {
   "cell_type": "code",
   "execution_count": 1705,
   "id": "618147fc-2802-4e5a-9c85-ada80b474755",
   "metadata": {},
   "outputs": [
    {
     "data": {
      "text/html": [
       "<div>\n",
       "<style scoped>\n",
       "    .dataframe tbody tr th:only-of-type {\n",
       "        vertical-align: middle;\n",
       "    }\n",
       "\n",
       "    .dataframe tbody tr th {\n",
       "        vertical-align: top;\n",
       "    }\n",
       "\n",
       "    .dataframe thead th {\n",
       "        text-align: right;\n",
       "    }\n",
       "</style>\n",
       "<table border=\"1\" class=\"dataframe\">\n",
       "  <thead>\n",
       "    <tr style=\"text-align: right;\">\n",
       "      <th></th>\n",
       "      <th>Company_Name</th>\n",
       "      <th>Location</th>\n",
       "      <th>Country_Name</th>\n",
       "      <th>Company_Name</th>\n",
       "      <th>Location</th>\n",
       "      <th>Country_Name</th>\n",
       "    </tr>\n",
       "  </thead>\n",
       "  <tbody>\n",
       "    <tr>\n",
       "      <th>0</th>\n",
       "      <td>TCS</td>\n",
       "      <td>Chennai</td>\n",
       "      <td>India</td>\n",
       "      <td>4</td>\n",
       "      <td>2</td>\n",
       "      <td>0</td>\n",
       "    </tr>\n",
       "    <tr>\n",
       "      <th>1</th>\n",
       "      <td>Infosys</td>\n",
       "      <td>Mumbai</td>\n",
       "      <td>India</td>\n",
       "      <td>2</td>\n",
       "      <td>6</td>\n",
       "      <td>0</td>\n",
       "    </tr>\n",
       "    <tr>\n",
       "      <th>2</th>\n",
       "      <td>TCS</td>\n",
       "      <td>Calcutta</td>\n",
       "      <td>India</td>\n",
       "      <td>4</td>\n",
       "      <td>1</td>\n",
       "      <td>0</td>\n",
       "    </tr>\n",
       "    <tr>\n",
       "      <th>3</th>\n",
       "      <td>Infosys</td>\n",
       "      <td>Delhi</td>\n",
       "      <td>India</td>\n",
       "      <td>2</td>\n",
       "      <td>4</td>\n",
       "      <td>0</td>\n",
       "    </tr>\n",
       "    <tr>\n",
       "      <th>4</th>\n",
       "      <td>TCS</td>\n",
       "      <td>Mumbai</td>\n",
       "      <td>India</td>\n",
       "      <td>4</td>\n",
       "      <td>6</td>\n",
       "      <td>0</td>\n",
       "    </tr>\n",
       "    <tr>\n",
       "      <th>...</th>\n",
       "      <td>...</td>\n",
       "      <td>...</td>\n",
       "      <td>...</td>\n",
       "      <td>...</td>\n",
       "      <td>...</td>\n",
       "      <td>...</td>\n",
       "    </tr>\n",
       "    <tr>\n",
       "      <th>142</th>\n",
       "      <td>Infosys Pvt Lmt</td>\n",
       "      <td>Mumbai</td>\n",
       "      <td>India</td>\n",
       "      <td>3</td>\n",
       "      <td>6</td>\n",
       "      <td>0</td>\n",
       "    </tr>\n",
       "    <tr>\n",
       "      <th>143</th>\n",
       "      <td>TCS</td>\n",
       "      <td>Calcutta</td>\n",
       "      <td>India</td>\n",
       "      <td>4</td>\n",
       "      <td>1</td>\n",
       "      <td>0</td>\n",
       "    </tr>\n",
       "    <tr>\n",
       "      <th>145</th>\n",
       "      <td>Infosys</td>\n",
       "      <td>Delhi</td>\n",
       "      <td>India</td>\n",
       "      <td>2</td>\n",
       "      <td>4</td>\n",
       "      <td>0</td>\n",
       "    </tr>\n",
       "    <tr>\n",
       "      <th>146</th>\n",
       "      <td>TCS</td>\n",
       "      <td>Mumbai</td>\n",
       "      <td>India</td>\n",
       "      <td>4</td>\n",
       "      <td>6</td>\n",
       "      <td>0</td>\n",
       "    </tr>\n",
       "    <tr>\n",
       "      <th>147</th>\n",
       "      <td>Infosys</td>\n",
       "      <td>Cochin</td>\n",
       "      <td>India</td>\n",
       "      <td>2</td>\n",
       "      <td>3</td>\n",
       "      <td>0</td>\n",
       "    </tr>\n",
       "  </tbody>\n",
       "</table>\n",
       "<p>144 rows × 6 columns</p>\n",
       "</div>"
      ],
      "text/plain": [
       "        Company_Name  Location  Country_Name  Company_Name  Location  \\\n",
       "0                TCS   Chennai         India             4         2   \n",
       "1            Infosys    Mumbai         India             2         6   \n",
       "2                TCS  Calcutta         India             4         1   \n",
       "3            Infosys     Delhi         India             2         4   \n",
       "4                TCS    Mumbai         India             4         6   \n",
       "..               ...       ...           ...           ...       ...   \n",
       "142  Infosys Pvt Lmt    Mumbai         India             3         6   \n",
       "143              TCS  Calcutta         India             4         1   \n",
       "145          Infosys     Delhi         India             2         4   \n",
       "146              TCS    Mumbai         India             4         6   \n",
       "147          Infosys    Cochin         India             2         3   \n",
       "\n",
       "     Country_Name  \n",
       "0               0  \n",
       "1               0  \n",
       "2               0  \n",
       "3               0  \n",
       "4               0  \n",
       "..            ...  \n",
       "142             0  \n",
       "143             0  \n",
       "145             0  \n",
       "146             0  \n",
       "147             0  \n",
       "\n",
       "[144 rows x 6 columns]"
      ]
     },
     "execution_count": 1705,
     "metadata": {},
     "output_type": "execute_result"
    }
   ],
   "source": [
    "# After encoding\n",
    "cat_label_encode= pd.concat(\n",
    "    [data[categorical_features], data_encoded[categorical_features]],\n",
    "    axis=1\n",
    ")\n",
    "cat_label_encode"
   ]
  },
  {
   "cell_type": "markdown",
   "id": "2d0403ca-db4b-447b-88db-29c4597d4578",
   "metadata": {},
   "source": [
    "# Question 5:Feature Scaling\n",
    "## After the process of encoding, perform the scaling of the features using standardscaler and minmaxscaler.\n"
   ]
  },
  {
   "cell_type": "code",
   "execution_count": 1668,
   "id": "67e4ecd7-fca9-4707-ad10-35cd01e428f0",
   "metadata": {},
   "outputs": [],
   "source": [
    "# 1. Importing libaray\n",
    "from sklearn.preprocessing import StandardScaler, MinMaxScaler"
   ]
  },
  {
   "cell_type": "code",
   "execution_count": 1670,
   "id": "cf06f3ad-87b5-47bf-b143-16a83bad2f6e",
   "metadata": {},
   "outputs": [],
   "source": [
    "\n",
    "# 2.Select the numerical features\n",
    "numerical_features = ['Emp_Age', 'Emp_Salary']"
   ]
  },
  {
   "cell_type": "markdown",
   "id": "be616f09-faba-4d2b-9c76-55318f24509b",
   "metadata": {},
   "source": [
    "# Standard Scaling"
   ]
  },
  {
   "cell_type": "code",
   "execution_count": 1673,
   "id": "337963eb-9d0d-4c17-abf7-15146924bff8",
   "metadata": {},
   "outputs": [],
   "source": [
    "scaler_standard = StandardScaler()\n",
    "standard_scaled_data[numerical_features] = scaler_standard.fit_transform(data[numerical_features])"
   ]
  },
  {
   "cell_type": "code",
   "execution_count": 1675,
   "id": "2d5565ad-d22a-4847-a5a9-607625abca29",
   "metadata": {},
   "outputs": [
    {
     "name": "stdout",
     "output_type": "stream",
     "text": [
      "Standard Scaled Data:\n",
      "    Emp_Age  Emp_Salary\n",
      "0 -1.484676   -0.100827\n",
      "1 -0.267174   -0.100827\n",
      "2  0.341577   -1.243735\n",
      "3  0.950328   -0.947426\n",
      "4 -1.119426   -0.524127\n"
     ]
    }
   ],
   "source": [
    "print(\"Standard Scaled Data:\")\n",
    "print(standard_scaled_data[numerical_features].head())"
   ]
  },
  {
   "cell_type": "markdown",
   "id": "d0ea8b18-e2c0-4aa0-b255-56b5b6fbb1bd",
   "metadata": {},
   "source": [
    "# MinMax Scaling\n"
   ]
  },
  {
   "cell_type": "code",
   "execution_count": 1678,
   "id": "5837af4d-55b1-41ec-bce6-ecfe27e5ae9e",
   "metadata": {},
   "outputs": [],
   "source": [
    "\n",
    "scaler_minmax = MinMaxScaler()\n",
    "minmax_scaled_data[numerical_features] = scaler_minmax.fit_transform(data[numerical_features])"
   ]
  },
  {
   "cell_type": "code",
   "execution_count": 1637,
   "id": "a38fdc66-72e0-4808-804a-b81e7a286259",
   "metadata": {},
   "outputs": [
    {
     "name": "stdout",
     "output_type": "stream",
     "text": [
      "MinMax Scaled Data:\n",
      "    Emp_Age  Emp_Salary\n",
      "0  0.081081    0.445089\n",
      "1  0.351351    0.445089\n",
      "2  0.486486    0.137817\n",
      "3  0.621622    0.217480\n",
      "4  0.162162    0.331285\n"
     ]
    }
   ],
   "source": [
    "print(\"MinMax Scaled Data:\")\n",
    "print(minmax_scaled_data[numerical_features].head())"
   ]
  },
  {
   "cell_type": "code",
   "execution_count": null,
   "id": "2cfa64df-d7b8-480c-bdb0-705b138650dd",
   "metadata": {},
   "outputs": [],
   "source": []
  },
  {
   "cell_type": "code",
   "execution_count": null,
   "id": "fe56421b-23f6-4125-aad8-162ae4cf1a5e",
   "metadata": {},
   "outputs": [],
   "source": []
  }
 ],
 "metadata": {
  "kernelspec": {
   "display_name": "Python [conda env:base] *",
   "language": "python",
   "name": "conda-base-py"
  },
  "language_info": {
   "codemirror_mode": {
    "name": "ipython",
    "version": 3
   },
   "file_extension": ".py",
   "mimetype": "text/x-python",
   "name": "python",
   "nbconvert_exporter": "python",
   "pygments_lexer": "ipython3",
   "version": "3.12.7"
  }
 },
 "nbformat": 4,
 "nbformat_minor": 5
}
